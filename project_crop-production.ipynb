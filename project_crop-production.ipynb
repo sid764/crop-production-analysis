{
 "cells": [
  {
   "cell_type": "code",
   "execution_count": 1,
   "metadata": {},
   "outputs": [
    {
     "data": {
      "text/html": [
       "<div>\n",
       "<style scoped>\n",
       "    .dataframe tbody tr th:only-of-type {\n",
       "        vertical-align: middle;\n",
       "    }\n",
       "\n",
       "    .dataframe tbody tr th {\n",
       "        vertical-align: top;\n",
       "    }\n",
       "\n",
       "    .dataframe thead th {\n",
       "        text-align: right;\n",
       "    }\n",
       "</style>\n",
       "<table border=\"1\" class=\"dataframe\">\n",
       "  <thead>\n",
       "    <tr style=\"text-align: right;\">\n",
       "      <th></th>\n",
       "      <th>State</th>\n",
       "      <th>Year</th>\n",
       "      <th>Crop</th>\n",
       "      <th>Area</th>\n",
       "      <th>Production</th>\n",
       "    </tr>\n",
       "  </thead>\n",
       "  <tbody>\n",
       "    <tr>\n",
       "      <th>0</th>\n",
       "      <td>Andaman and Nicobar Islands</td>\n",
       "      <td>2000</td>\n",
       "      <td>Arecanut</td>\n",
       "      <td>4354.0</td>\n",
       "      <td>7200.0</td>\n",
       "    </tr>\n",
       "    <tr>\n",
       "      <th>1</th>\n",
       "      <td>Andaman and Nicobar Islands</td>\n",
       "      <td>2000</td>\n",
       "      <td>Banana</td>\n",
       "      <td>1707.0</td>\n",
       "      <td>12714.0</td>\n",
       "    </tr>\n",
       "    <tr>\n",
       "      <th>2</th>\n",
       "      <td>Andaman and Nicobar Islands</td>\n",
       "      <td>2000</td>\n",
       "      <td>Cashewnut</td>\n",
       "      <td>800.0</td>\n",
       "      <td>219.0</td>\n",
       "    </tr>\n",
       "    <tr>\n",
       "      <th>3</th>\n",
       "      <td>Andaman and Nicobar Islands</td>\n",
       "      <td>2000</td>\n",
       "      <td>Coconut</td>\n",
       "      <td>25160.0</td>\n",
       "      <td>89000000.0</td>\n",
       "    </tr>\n",
       "    <tr>\n",
       "      <th>4</th>\n",
       "      <td>Andaman and Nicobar Islands</td>\n",
       "      <td>2000</td>\n",
       "      <td>Dry ginger</td>\n",
       "      <td>388.0</td>\n",
       "      <td>1220.0</td>\n",
       "    </tr>\n",
       "  </tbody>\n",
       "</table>\n",
       "</div>"
      ],
      "text/plain": [
       "                         State  Year        Crop     Area  Production\n",
       "0  Andaman and Nicobar Islands  2000    Arecanut   4354.0      7200.0\n",
       "1  Andaman and Nicobar Islands  2000      Banana   1707.0     12714.0\n",
       "2  Andaman and Nicobar Islands  2000   Cashewnut    800.0       219.0\n",
       "3  Andaman and Nicobar Islands  2000    Coconut   25160.0  89000000.0\n",
       "4  Andaman and Nicobar Islands  2000  Dry ginger    388.0      1220.0"
      ]
     },
     "execution_count": 1,
     "metadata": {},
     "output_type": "execute_result"
    }
   ],
   "source": [
    "#Importing necessary libraries and modules\n",
    "import pandas as pd\n",
    "import numpy as np\n",
    "import matplotlib.pyplot as plt\n",
    "from pandas.plotting import register_matplotlib_converters\n",
    "\n",
    "crops = pd.read_csv('state-wise-crop-production-India.csv')\n",
    "crops.head()"
   ]
  },
  {
   "cell_type": "code",
   "execution_count": 2,
   "metadata": {},
   "outputs": [
    {
     "name": "stdout",
     "output_type": "stream",
     "text": [
      "AVERAGE PRODUCTION OF DIFFERENT CROPS:\n",
      " Crop\n",
      "Coconut      9.230316e+08\n",
      "Sugarcane    1.121993e+07\n",
      "Wheat        3.136744e+06\n",
      "Rice         3.074956e+06\n",
      "Paddy        2.785651e+06\n",
      "Name: Production, dtype: float64\n",
      "\n",
      "AVERAGE CROP PRODUCTION IN DIFFERENT YEARS:\n",
      " Year\n",
      "2000    9.465958e+06\n",
      "2001    9.848998e+06\n",
      "2002    7.894313e+06\n",
      "2003    8.239306e+06\n",
      "2004    1.059439e+07\n",
      "Name: Production, dtype: float64\n",
      "\n",
      "AVERAGE CROP PRODUCTION IN EACH STATE:\n",
      " State\n",
      "Kerala                         2.550271e+08\n",
      "Andhra Pradesh                 2.537070e+07\n",
      "Tamil Nadu                     2.309088e+07\n",
      "Andaman and Nicobar Islands    7.722831e+06\n",
      "Goa                            6.921907e+06\n",
      "Name: Production, dtype: float64\n",
      "\n",
      "TOTAL AVERAGE PRODUCTION: 11154093.940590419\n"
     ]
    }
   ],
   "source": [
    "#Question 1\n",
    "\n",
    "#Series of average production of each crop till date\n",
    "avg_each_crop = crops.groupby('Crop').Production.mean().sort_values(ascending=False)\n",
    "#Series of average crop production during each year\n",
    "avg_each_year = crops.groupby('Year').Production.mean()\n",
    "#Series of each state's average crop production over successive years\n",
    "avg_each_state = crops.groupby('State').Production.mean().sort_values(ascending=False)\n",
    "#Total average crop production in India \n",
    "total_avg = crops.Production.mean()\n",
    "\n",
    "print(\"AVERAGE PRODUCTION OF DIFFERENT CROPS:\\n\", avg_each_crop.head(), end=\"\\n\\n\")\n",
    "print(\"AVERAGE CROP PRODUCTION IN DIFFERENT YEARS:\\n\", avg_each_year.head(), end=\"\\n\\n\")\n",
    "print(\"AVERAGE CROP PRODUCTION IN EACH STATE:\\n\", avg_each_state.head(), end=\"\\n\\n\")\n",
    "print(\"TOTAL AVERAGE PRODUCTION:\", total_avg)"
   ]
  },
  {
   "cell_type": "code",
   "execution_count": 3,
   "metadata": {},
   "outputs": [
    {
     "data": {
      "text/plain": [
       "'Sugarcane'"
      ]
     },
     "execution_count": 3,
     "metadata": {},
     "output_type": "execute_result"
    }
   ],
   "source": [
    "#Question 2\n",
    "max_crop_index = (crops.Production/crops.Area).idxmax()\n",
    "crops.loc[max_crop_index, 'Crop']"
   ]
  },
  {
   "cell_type": "code",
   "execution_count": 4,
   "metadata": {},
   "outputs": [
    {
     "data": {
      "image/png": "[encoded data removed]",
      "text/plain": [
       "<Figure size 720x360 with 1 Axes>"
      ]
     },
     "metadata": {
      "needs_background": "light"
     },
     "output_type": "display_data"
    },
    {
     "name": "stdout",
     "output_type": "stream",
     "text": [
      "[[1.         0.44647268]\n",
      " [0.44647268 1.        ]]\n"
     ]
    }
   ],
   "source": [
    "#Question 3\n",
    "x = np.arange(2000, 2014)\n",
    "y1 = crops.loc[(crops.State=='Odisha') & (crops.Crop=='Rice')].groupby('Year').Production.sum().to_numpy()\n",
    "y2 = crops.loc[(crops.State=='West Bengal') & (crops.Crop=='Rice')].groupby('Year').Production.sum().to_numpy()\n",
    "\n",
    "w = 0.3\n",
    "bar2 = [i+w for i in x]\n",
    "plt.figure(figsize=(10,5))\n",
    "plt.bar(x, y1, w, label='Odisha')\n",
    "plt.bar(bar2, y2, w, label='West Bengal')\n",
    "plt.xlabel('Year')\n",
    "plt.ylabel('Production(1e+7)')\n",
    "plt.xticks(x)\n",
    "plt.legend()\n",
    "plt.show()\n",
    "\n",
    "print(np.corrcoef(y1, y2))"
   ]
  },
  {
   "cell_type": "code",
   "execution_count": 32,
   "metadata": {},
   "outputs": [
    {
     "data": {
      "image/png": "[encoded data removed]",
      "text/plain": [
       "<Figure size 720x360 with 1 Axes>"
      ]
     },
     "metadata": {
      "needs_background": "light"
     },
     "output_type": "display_data"
    }
   ],
   "source": [
    "a1 = crops.loc[(crops.State=='Odisha') & (crops.Crop=='Rice')].groupby('Year').Area.sum().to_numpy()\n",
    "a2 = crops.loc[(crops.State=='West Bengal') & (crops.Crop=='Rice')].groupby('Year').Area.sum().to_numpy()\n",
    "\n",
    "yield1 = y1/a1\n",
    "yield2 = y2/a2\n",
    "\n",
    "w = 0.3\n",
    "bar2 = [i+w for i in x]\n",
    "plt.figure(figsize=(10,5))\n",
    "plt.bar(x, yield1, w, label='Odisha')\n",
    "plt.bar(bar2, yield2, w, label='West Bengal')\n",
    "plt.xlabel('Year')\n",
    "plt.ylabel('Yield')\n",
    "plt.xticks(x)\n",
    "plt.legend()\n",
    "plt.show()"
   ]
  },
  {
   "cell_type": "code",
   "execution_count": 5,
   "metadata": {},
   "outputs": [
    {
     "data": {
      "text/plain": [
       "'Uttar Pradesh'"
      ]
     },
     "execution_count": 5,
     "metadata": {},
     "output_type": "execute_result"
    }
   ],
   "source": [
    "#Question 4\n",
    "max_wheat_index = crops[crops.Crop=='Wheat'].Production.idxmax()\n",
    "crops.loc[max_wheat_index, 'State']"
   ]
  },
  {
   "cell_type": "markdown",
   "metadata": {},
   "source": [
    "# Question 5"
   ]
  },
  {
   "cell_type": "code",
   "execution_count": 16,
   "metadata": {},
   "outputs": [
    {
     "name": "stdout",
     "output_type": "stream",
     "text": [
      "Andhra Pradesh(2000-13)\n",
      " [8040667. 7823692. 5315408. 6054099. 7392678. 7288721. 7616392. 8880000.\n",
      " 8880586. 7569071. 7883078. 7744175. 6862854. 7993425.]\n",
      "\n",
      "Uttar Pradesh(2000-13)\n",
      " [11679149. 12855857.  9596346. 12494939. 10749989. 11119095. 11123613.\n",
      " 11780112. 13097031. 10776504. 11992299. 14022392. 14415939. 14635836.]\n",
      "\n",
      "TamilNadu(2000-13)\n",
      " [7217903. 6583630. 3577108. 3222776. 5061622. 5209433. 6610607. 5039954.\n",
      " 5183385. 5665258. 5792415. 7458657. 4050334. 7115195.]\n"
     ]
    }
   ],
   "source": [
    "x1 = crops.loc[(crops.State=='Andhra Pradesh') & (crops.Crop=='Rice')].groupby('Year').Production.sum()\n",
    "x2 = crops.loc[(crops.State=='Uttar Pradesh') & (crops.Crop=='Rice')].groupby('Year').Production.sum()\n",
    "x3 = crops.loc[(crops.State=='Tamil Nadu') & (crops.Crop=='Rice')].groupby('Year').Production.sum()\n",
    "\n",
    "x1 = np.array(x1)\n",
    "x2 = np.array(x2)\n",
    "x3 = np.array(x3)\n",
    "\n",
    "print(\"Andhra Pradesh(2000-13)\\n\", x1)\n",
    "print(\"\\nUttar Pradesh(2000-13)\\n\", x2)\n",
    "print(\"\\nTamil Nadu(2000-13)\\n\", x3)"
   ]
  },
  {
   "cell_type": "code",
   "execution_count": 14,
   "metadata": {},
   "outputs": [],
   "source": [
    "def training_set(time_series):\n",
    "    X = []\n",
    "    y = []\n",
    "    \n",
    "    for i in range(len(time_series)-3):\n",
    "        X.append(time_series[i:i+3])\n",
    "        y.append(time_series[i+3])\n",
    "    \n",
    "    return np.array(X), np.array(y)"
   ]
  },
  {
   "cell_type": "code",
   "execution_count": 15,
   "metadata": {},
   "outputs": [],
   "source": [
    "x1_train, y1_train = training_set(x1)\n",
    "x2_train, y2_train = training_set(x2)\n",
    "x3_train, y3_train = training_set(x3)\n",
    "\n",
    "x1_train = x1_train.reshape((x1_train.shape[0], x1_train.shape[1], 1))\n",
    "x2_train = x2_train.reshape((x2_train.shape[0], x2_train.shape[1], 1))\n",
    "x3_train = x3_train.reshape((x3_train.shape[0], x3_train.shape[1], 1))"
   ]
  },
  {
   "cell_type": "code",
   "execution_count": 17,
   "metadata": {},
   "outputs": [],
   "source": [
    "import tensorflow\n",
    "from tensorflow.keras.models import Sequential\n",
    "from tensorflow.keras.layers import Dense\n",
    "from tensorflow.keras.layers import Flatten\n",
    "from tensorflow.keras.layers import LSTM\n",
    "\n",
    "model = Sequential([\n",
    "    LSTM(50, activation='relu', return_sequences=True, input_shape=(3,1)),\n",
    "    LSTM(50, activation='relu'),\n",
    "    Dense(1, activation='relu')\n",
    "])\n",
    "\n",
    "model.compile(optimizer='adam',loss='mse')"
   ]
  },
  {
   "cell_type": "code",
   "execution_count": 19,
   "metadata": {},
   "outputs": [
    {
     "data": {
      "text/plain": [
       "<tensorflow.python.keras.callbacks.History at 0x1fcc0e30cc0>"
      ]
     },
     "execution_count": 19,
     "metadata": {},
     "output_type": "execute_result"
    }
   ],
   "source": [
    "model.fit(x1_train, y1_train, epochs=1000, verbose=0)\n",
    "model.fit(x2_train, y2_train, epochs=1000, verbose=0)\n",
    "model.fit(x3_train, y3_train, epochs=1000, verbose=0)"
   ]
  },
  {
   "cell_type": "code",
   "execution_count": 25,
   "metadata": {},
   "outputs": [
    {
     "name": "stdout",
     "output_type": "stream",
     "text": [
      "Prediction of rice production in 2014\n",
      "\n",
      "Andhra Pradesh: 8903337.0\n",
      "Uttar Pradesh: 17154456.0\n",
      "Tamilnadu: 9567241.0\n"
     ]
    }
   ],
   "source": [
    "x1_test = np.array(x1[-3:])\n",
    "x2_test = np.array(x2[-3:])\n",
    "x3_test = np.array(x3[-3:])\n",
    "\n",
    "x1_test = x1_test.reshape(-1,3,1)\n",
    "x2_test = x2_test.reshape(-1,3,1)\n",
    "x3_test = x3_test.reshape(-1,3,1)\n",
    "\n",
    "y1_pred = model.predict(x1_test)\n",
    "y2_pred = model.predict(x2_test)\n",
    "y3_pred = model.predict(x3_test)\n",
    "\n",
    "print(\"Prediction of rice production in 2014\\n\")\n",
    "print(\"Andhra Pradesh:\", y1_pred[0][0])\n",
    "print(\"Uttar Pradesh:\", y2_pred[0][0])\n",
    "print(\"Tamilnadu:\", y3_pred[0][0])"
   ]
  },
  {
   "cell_type": "markdown",
   "metadata": {},
   "source": []
  }
 ],
 "metadata": {
  "kernelspec": {
   "display_name": "Python 3",
   "language": "python",
   "name": "python3"
  },
  "language_info": {
   "codemirror_mode": {
    "name": "ipython",
    "version": 3
   },
   "file_extension": ".py",
   "mimetype": "text/x-python",
   "name": "python",
   "nbconvert_exporter": "python",
   "pygments_lexer": "ipython3",
   "version": "3.7.3"
  }
 },
 "nbformat": 4,
 "nbformat_minor": 2
}
